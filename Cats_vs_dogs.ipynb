{
 "cells": [
  {
   "cell_type": "code",
   "execution_count": 2,
   "id": "fcd1fc9f-b1db-4ae0-8d77-3b0aa1949163",
   "metadata": {},
   "outputs": [],
   "source": [
    "import matplotlib.pyplot as plt\n",
    "import numpy as np\n",
    "from tensorflow import keras\n",
    "from tensorflow.keras import layers\n"
   ]
  },
  {
   "cell_type": "code",
   "execution_count": 3,
   "id": "9de7979c-1922-4ba4-907e-f64a711b20d2",
   "metadata": {},
   "outputs": [],
   "source": [
    "import os\n",
    "\n",
    "data_path = os.path.sep.join(['c:', 'kurssit', 'Syvaoppiminen', 'PetImages'])\n",
    "train_path = os.path.sep.join([data_path, 'train'])\n",
    "validation_path = os.path.sep.join([data_path, 'validation'])\n",
    "test_path = os.path.sep.join([data_path, 'test'])"
   ]
  },
  {
   "cell_type": "code",
   "execution_count": 56,
   "id": "763dc7d4-dbfd-402f-92f3-164d4a01aff0",
   "metadata": {},
   "outputs": [
    {
     "name": "stdout",
     "output_type": "stream",
     "text": [
      "Found 1998 files belonging to 2 classes.\n",
      "Found 1000 files belonging to 2 classes.\n",
      "Found 2000 files belonging to 2 classes.\n"
     ]
    }
   ],
   "source": [
    "from tensorflow.keras.utils import image_dataset_from_directory\n",
    "\n",
    "train_dataset = image_dataset_from_directory(\n",
    "    train_path , image_size=(180, 180), batch_size=32)\n",
    "validation_dataset = image_dataset_from_directory(\n",
    "    validation_path, image_size=(180, 180), batch_size=32, shuffle=False)\n",
    "test_dataset = image_dataset_from_directory(\n",
    "    test_path, image_size=(180, 180), batch_size=32, shuffle=False)\n",
    "\n",
    "\n",
    "\n"
   ]
  },
  {
   "cell_type": "code",
   "execution_count": 57,
   "id": "8aff3923-96fd-4c92-ab06-736a68283c63",
   "metadata": {},
   "outputs": [],
   "source": [
    "file_paths = test_dataset.file_paths\n",
    "\n",
    "try:\n",
    "    for i, (data_batch, labels_batch) in enumerate(test_dataset):\n",
    "        pass\n",
    "except Exception as e:\n",
    "    print(file_paths[i])\n",
    "    print(f\"Error: {type(e).__name__}, Message: {str(e)}\")"
   ]
  },
  {
   "cell_type": "code",
   "execution_count": 58,
   "id": "39ad4762-0460-4a37-88a1-a0c734e8bdbb",
   "metadata": {},
   "outputs": [
    {
     "name": "stdout",
     "output_type": "stream",
     "text": [
      "data batch shape:  (32, 180, 180, 3)\n",
      "labels batch shape:  (32,)\n"
     ]
    }
   ],
   "source": [
    "for data_batch, labels_batch in train_dataset:\n",
    "    print(\"data batch shape: \", data_batch.shape)\n",
    "    print(\"labels batch shape: \", labels_batch.shape)\n",
    "    break"
   ]
  },
  {
   "cell_type": "code",
   "execution_count": 59,
   "id": "4c618afc-9e63-4371-bf61-593dd5803973",
   "metadata": {},
   "outputs": [],
   "source": [
    "inputs = keras.Input(shape=(180, 180, 3))\n",
    "hidden = layers.Rescaling(1./255)(inputs)\n",
    "hidden = layers.Conv2D(filters=32, kernel_size=3, activation=\"relu\")(hidden)\n",
    "hidden = layers.MaxPooling2D(pool_size=2)(hidden)\n",
    "hidden = layers.Conv2D(filters=64, kernel_size=3, activation=\"relu\")(hidden)\n",
    "hidden = layers.MaxPooling2D(pool_size=2)(hidden)\n",
    "hidden = layers.Conv2D(filters=128, kernel_size=3, activation=\"relu\")(hidden)\n",
    "hidden = layers.MaxPooling2D(pool_size=2)(hidden)\n",
    "hidden = layers.Conv2D(filters=256, kernel_size=3, activation=\"relu\")(hidden)\n",
    "hidden = layers.MaxPooling2D(pool_size=2)(hidden)\n",
    "hidden = layers.Conv2D(filters=256, kernel_size=3, activation=\"relu\")(hidden)\n",
    "hidden = layers.MaxPooling2D(pool_size=2)(hidden)\n",
    "hidden = layers.Flatten()(hidden)\n",
    "outputs = layers.Dense(1, activation=\"sigmoid\")(hidden)\n",
    "model = keras.Model(inputs=inputs, outputs=outputs)"
   ]
  },
  {
   "cell_type": "code",
   "execution_count": 60,
   "id": "d3a28a59-47a0-4e46-a4d2-10fb66d9efd5",
   "metadata": {},
   "outputs": [
    {
     "name": "stdout",
     "output_type": "stream",
     "text": [
      "Model: \"model\"\n",
      "_________________________________________________________________\n",
      " Layer (type)                Output Shape              Param #   \n",
      "=================================================================\n",
      " input_1 (InputLayer)        [(None, 180, 180, 3)]     0         \n",
      "                                                                 \n",
      " rescaling (Rescaling)       (None, 180, 180, 3)       0         \n",
      "                                                                 \n",
      " conv2d (Conv2D)             (None, 178, 178, 32)      896       \n",
      "                                                                 \n",
      " max_pooling2d (MaxPooling2D  (None, 89, 89, 32)       0         \n",
      " )                                                               \n",
      "                                                                 \n",
      " conv2d_1 (Conv2D)           (None, 87, 87, 64)        18496     \n",
      "                                                                 \n",
      " max_pooling2d_1 (MaxPooling  (None, 43, 43, 64)       0         \n",
      " 2D)                                                             \n",
      "                                                                 \n",
      " conv2d_2 (Conv2D)           (None, 41, 41, 128)       73856     \n",
      "                                                                 \n",
      " max_pooling2d_2 (MaxPooling  (None, 20, 20, 128)      0         \n",
      " 2D)                                                             \n",
      "                                                                 \n",
      " conv2d_3 (Conv2D)           (None, 18, 18, 256)       295168    \n",
      "                                                                 \n",
      " max_pooling2d_3 (MaxPooling  (None, 9, 9, 256)        0         \n",
      " 2D)                                                             \n",
      "                                                                 \n",
      " conv2d_4 (Conv2D)           (None, 7, 7, 256)         590080    \n",
      "                                                                 \n",
      " max_pooling2d_4 (MaxPooling  (None, 3, 3, 256)        0         \n",
      " 2D)                                                             \n",
      "                                                                 \n",
      " flatten (Flatten)           (None, 2304)              0         \n",
      "                                                                 \n",
      " dense (Dense)               (None, 1)                 2305      \n",
      "                                                                 \n",
      "=================================================================\n",
      "Total params: 980,801\n",
      "Trainable params: 980,801\n",
      "Non-trainable params: 0\n",
      "_________________________________________________________________\n"
     ]
    }
   ],
   "source": [
    "model.summary()"
   ]
  },
  {
   "cell_type": "code",
   "execution_count": 61,
   "id": "c5717c51-8849-47fa-86ba-d0adad396a3f",
   "metadata": {},
   "outputs": [],
   "source": [
    "model.compile(loss=\"binary_crossentropy\", optimizer=\"rmsprop\", metrics= [\"accuracy\"])"
   ]
  },
  {
   "cell_type": "code",
   "execution_count": 62,
   "id": "bac9d0d9-a91c-4f2a-8f9a-0c498c56e98b",
   "metadata": {},
   "outputs": [
    {
     "data": {
      "image/png": "[encoded data removed]",
      "text/plain": [
       "<IPython.core.display.Image object>"
      ]
     },
     "execution_count": 62,
     "metadata": {},
     "output_type": "execute_result"
    }
   ],
   "source": [
    "from tensorflow.keras.utils import plot_model\n",
    "\n",
    "plot_model(model, show_shapes=True, dpi=80)"
   ]
  },
  {
   "cell_type": "code",
   "execution_count": 63,
   "id": "f9f71f61-cc22-4e03-82fa-6ba945c2c5a1",
   "metadata": {},
   "outputs": [
    {
     "name": "stdout",
     "output_type": "stream",
     "text": [
      "Epoch 1/8\n",
      "63/63 [==============================] - 56s 863ms/step - loss: 0.6946 - accuracy: 0.5045 - val_loss: 0.6913 - val_accuracy: 0.5230\n",
      "Epoch 2/8\n",
      "63/63 [==============================] - 58s 926ms/step - loss: 0.6920 - accuracy: 0.5200 - val_loss: 0.6836 - val_accuracy: 0.6100\n",
      "Epoch 3/8\n",
      "63/63 [==============================] - 59s 938ms/step - loss: 0.6659 - accuracy: 0.5811 - val_loss: 0.6785 - val_accuracy: 0.6210\n",
      "Epoch 4/8\n",
      "63/63 [==============================] - 61s 961ms/step - loss: 0.6497 - accuracy: 0.6286 - val_loss: 0.6212 - val_accuracy: 0.6560\n",
      "Epoch 5/8\n",
      "63/63 [==============================] - 61s 969ms/step - loss: 0.6239 - accuracy: 0.6476 - val_loss: 0.7237 - val_accuracy: 0.5200\n",
      "Epoch 6/8\n",
      "63/63 [==============================] - 61s 965ms/step - loss: 0.6103 - accuracy: 0.6642 - val_loss: 0.6327 - val_accuracy: 0.6520\n",
      "Epoch 7/8\n",
      "63/63 [==============================] - 60s 958ms/step - loss: 0.5753 - accuracy: 0.6952 - val_loss: 0.5736 - val_accuracy: 0.7000\n",
      "Epoch 8/8\n",
      "63/63 [==============================] - 60s 955ms/step - loss: 0.5564 - accuracy: 0.7127 - val_loss: 0.6860 - val_accuracy: 0.6760\n"
     ]
    },
    {
     "data": {
      "text/plain": [
       "<keras.callbacks.History at 0x16ccfeb0050>"
      ]
     },
     "execution_count": 63,
     "metadata": {},
     "output_type": "execute_result"
    }
   ],
   "source": [
    "model.fit(train_dataset, validation_data=validation_dataset, batch_size=32, epochs = 8)"
   ]
  },
  {
   "cell_type": "code",
   "execution_count": 65,
   "id": "502d97ef-5b79-4397-bcde-1b4a0703ed84",
   "metadata": {},
   "outputs": [
    {
     "name": "stdout",
     "output_type": "stream",
     "text": [
      "63/63 [==============================] - 11s 176ms/step - loss: 0.6791 - accuracy: 0.6745\n"
     ]
    }
   ],
   "source": [
    "loss, accuracy = model.evaluate(test_dataset)\n"
   ]
  },
  {
   "cell_type": "code",
   "execution_count": null,
   "id": "3d68e6aa-030e-4499-8c0a-f237eec0b51f",
   "metadata": {},
   "outputs": [],
   "source": [
    "print(f\"Test accuracy: {label_acc:.3f}\")"
   ]
  }
 ],
 "metadata": {
  "kernelspec": {
   "display_name": "Python 3 (ipykernel)",
   "language": "python",
   "name": "python3"
  },
  "language_info": {
   "codemirror_mode": {
    "name": "ipython",
    "version": 3
   },
   "file_extension": ".py",
   "mimetype": "text/x-python",
   "name": "python",
   "nbconvert_exporter": "python",
   "pygments_lexer": "ipython3",
   "version": "3.11.4"
  }
 },
 "nbformat": 4,
 "nbformat_minor": 5
}
