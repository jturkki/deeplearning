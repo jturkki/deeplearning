{
 "cells": [
  {
   "cell_type": "code",
   "execution_count": 2,
   "id": "fcd1fc9f-b1db-4ae0-8d77-3b0aa1949163",
   "metadata": {},
   "outputs": [],
   "source": [
    "import matplotlib.pyplot as plt\n",
    "import numpy as np\n",
    "from tensorflow import keras\n",
    "from tensorflow.keras import layers\n"
   ]
  },
  {
   "cell_type": "code",
   "execution_count": 11,
   "id": "9de7979c-1922-4ba4-907e-f64a711b20d2",
   "metadata": {},
   "outputs": [],
   "source": [
    "import os\n",
    "\n",
    "data_path = os.path.sep.join(['c:', 'kurssit', 'Syvaoppiminen', 'PetImages'])\n",
    "train_path = os.path.sep.join([data_path, 'train'])\n",
    "validation_path = os.path.sep.join([data_path, 'validation'])\n",
    "test_path = os.path.sep.join([data_path, 'test'])"
   ]
  },
  {
   "cell_type": "code",
   "execution_count": 40,
   "id": "763dc7d4-dbfd-402f-92f3-164d4a01aff0",
   "metadata": {},
   "outputs": [
    {
     "name": "stdout",
     "output_type": "stream",
     "text": [
      "Found 1998 files belonging to 2 classes.\n",
      "Found 1000 files belonging to 2 classes.\n",
      "Found 2000 files belonging to 2 classes.\n"
     ]
    }
   ],
   "source": [
    "from tensorflow.keras.utils import image_dataset_from_directory\n",
    "\n",
    "train_dataset = image_dataset_from_directory(\n",
    "    train_path , image_size=(180, 180), batch_size=32)\n",
    "validation_dataset = image_dataset_from_directory(\n",
    "    validation_path, image_size=(180, 180), batch_size=32)\n",
    "test_dataset = image_dataset_from_directory(\n",
    "    test_path, image_size=(180, 180), batch_size=32)\n",
    "\n"
   ]
  },
  {
   "cell_type": "code",
   "execution_count": 32,
   "id": "39ad4762-0460-4a37-88a1-a0c734e8bdbb",
   "metadata": {},
   "outputs": [
    {
     "name": "stdout",
     "output_type": "stream",
     "text": [
      "data batch shape:  (32, 180, 180, 3)\n",
      "labels batch shape:  (32,)\n"
     ]
    }
   ],
   "source": [
    "for data_batch, labels_batch in train_dataset:\n",
    "    print(\"data batch shape: \", data_batch.shape)\n",
    "    print(\"labels batch shape: \", labels_batch.shape)\n",
    "    break"
   ]
  },
  {
   "cell_type": "code",
   "execution_count": 16,
   "id": "4c618afc-9e63-4371-bf61-593dd5803973",
   "metadata": {},
   "outputs": [],
   "source": [
    "inputs = keras.Input(shape=(180, 180, 3))\n",
    "hidden = layers.Rescaling(1./255)(inputs)\n",
    "hidden = layers.Conv2D(filters=32, kernel_size=3, activation=\"relu\")(hidden)\n",
    "hidden = layers.MaxPooling2D(pool_size=2)(hidden)\n",
    "hidden = layers.Conv2D(filters=64, kernel_size=3, activation=\"relu\")(hidden)\n",
    "hidden = layers.MaxPooling2D(pool_size=2)(hidden)\n",
    "hidden = layers.Conv2D(filters=128, kernel_size=3, activation=\"relu\")(hidden)\n",
    "hidden = layers.MaxPooling2D(pool_size=2)(hidden)\n",
    "hidden = layers.Conv2D(filters=256, kernel_size=3, activation=\"relu\")(hidden)\n",
    "hidden = layers.MaxPooling2D(pool_size=2)(hidden)\n",
    "hidden = layers.Conv2D(filters=256, kernel_size=3, activation=\"relu\")(hidden)\n",
    "hidden = layers.MaxPooling2D(pool_size=2)(hidden)\n",
    "hidden = layers.Flatten()(hidden)\n",
    "outputs = layers.Dense(1, activation=\"sigmoid\")(hidden)\n",
    "model = keras.Model(inputs=inputs, outputs=outputs)"
   ]
  },
  {
   "cell_type": "code",
   "execution_count": 17,
   "id": "d3a28a59-47a0-4e46-a4d2-10fb66d9efd5",
   "metadata": {},
   "outputs": [
    {
     "name": "stdout",
     "output_type": "stream",
     "text": [
      "Model: \"model\"\n",
      "_________________________________________________________________\n",
      " Layer (type)                Output Shape              Param #   \n",
      "=================================================================\n",
      " input_2 (InputLayer)        [(None, 180, 180, 3)]     0         \n",
      "                                                                 \n",
      " rescaling_1 (Rescaling)     (None, 180, 180, 3)       0         \n",
      "                                                                 \n",
      " conv2d_5 (Conv2D)           (None, 178, 178, 32)      896       \n",
      "                                                                 \n",
      " max_pooling2d_5 (MaxPooling  (None, 89, 89, 32)       0         \n",
      " 2D)                                                             \n",
      "                                                                 \n",
      " conv2d_6 (Conv2D)           (None, 87, 87, 64)        18496     \n",
      "                                                                 \n",
      " max_pooling2d_6 (MaxPooling  (None, 43, 43, 64)       0         \n",
      " 2D)                                                             \n",
      "                                                                 \n",
      " conv2d_7 (Conv2D)           (None, 41, 41, 128)       73856     \n",
      "                                                                 \n",
      " max_pooling2d_7 (MaxPooling  (None, 20, 20, 128)      0         \n",
      " 2D)                                                             \n",
      "                                                                 \n",
      " conv2d_8 (Conv2D)           (None, 18, 18, 256)       295168    \n",
      "                                                                 \n",
      " max_pooling2d_8 (MaxPooling  (None, 9, 9, 256)        0         \n",
      " 2D)                                                             \n",
      "                                                                 \n",
      " conv2d_9 (Conv2D)           (None, 7, 7, 256)         590080    \n",
      "                                                                 \n",
      " max_pooling2d_9 (MaxPooling  (None, 3, 3, 256)        0         \n",
      " 2D)                                                             \n",
      "                                                                 \n",
      " flatten_1 (Flatten)         (None, 2304)              0         \n",
      "                                                                 \n",
      " dense (Dense)               (None, 1)                 2305      \n",
      "                                                                 \n",
      "=================================================================\n",
      "Total params: 980,801\n",
      "Trainable params: 980,801\n",
      "Non-trainable params: 0\n",
      "_________________________________________________________________\n"
     ]
    }
   ],
   "source": [
    "model.summary()"
   ]
  },
  {
   "cell_type": "code",
   "execution_count": 18,
   "id": "c5717c51-8849-47fa-86ba-d0adad396a3f",
   "metadata": {},
   "outputs": [],
   "source": [
    "model.compile(loss=\"binary_crossentropy\", optimizer=\"rmsprop\", metrics= [\"accuracy\"])"
   ]
  },
  {
   "cell_type": "code",
   "execution_count": 20,
   "id": "bac9d0d9-a91c-4f2a-8f9a-0c498c56e98b",
   "metadata": {},
   "outputs": [
    {
     "data": {
      "image/png": "[encoded data removed]",
      "text/plain": [
       "<IPython.core.display.Image object>"
      ]
     },
     "execution_count": 20,
     "metadata": {},
     "output_type": "execute_result"
    }
   ],
   "source": [
    "from tensorflow.keras.utils import plot_model\n",
    "\n",
    "plot_model(model, show_shapes=True, dpi=80)"
   ]
  },
  {
   "cell_type": "code",
   "execution_count": 33,
   "id": "f9f71f61-cc22-4e03-82fa-6ba945c2c5a1",
   "metadata": {},
   "outputs": [
    {
     "name": "stdout",
     "output_type": "stream",
     "text": [
      "Epoch 1/8\n",
      "63/63 [==============================] - 84s 1s/step - loss: 0.5870 - accuracy: 0.6962 - val_loss: 0.5870 - val_accuracy: 0.7040\n",
      "Epoch 2/8\n",
      "63/63 [==============================] - 83s 1s/step - loss: 0.5536 - accuracy: 0.6997 - val_loss: 0.6118 - val_accuracy: 0.6970\n",
      "Epoch 3/8\n",
      "63/63 [==============================] - 83s 1s/step - loss: 0.5317 - accuracy: 0.7352 - val_loss: 0.8704 - val_accuracy: 0.6080\n",
      "Epoch 4/8\n",
      "63/63 [==============================] - 84s 1s/step - loss: 0.4820 - accuracy: 0.7648 - val_loss: 0.6226 - val_accuracy: 0.6960\n",
      "Epoch 5/8\n",
      "63/63 [==============================] - 83s 1s/step - loss: 0.4151 - accuracy: 0.8138 - val_loss: 0.6292 - val_accuracy: 0.7220\n",
      "Epoch 6/8\n",
      "63/63 [==============================] - 83s 1s/step - loss: 0.3676 - accuracy: 0.8398 - val_loss: 0.6065 - val_accuracy: 0.7190\n",
      "Epoch 7/8\n",
      "63/63 [==============================] - 84s 1s/step - loss: 0.2901 - accuracy: 0.8769 - val_loss: 0.6658 - val_accuracy: 0.7350\n",
      "Epoch 8/8\n",
      "63/63 [==============================] - 84s 1s/step - loss: 0.2412 - accuracy: 0.8959 - val_loss: 0.7733 - val_accuracy: 0.6910\n"
     ]
    },
    {
     "data": {
      "text/plain": [
       "<keras.callbacks.History at 0x187c6ba29d0>"
      ]
     },
     "execution_count": 33,
     "metadata": {},
     "output_type": "execute_result"
    }
   ],
   "source": [
    "model.fit(train_dataset, validation_data=validation_dataset, batch_size=32, epochs = 8)"
   ]
  },
  {
   "cell_type": "code",
   "execution_count": 41,
   "id": "502d97ef-5b79-4397-bcde-1b4a0703ed84",
   "metadata": {},
   "outputs": [
    {
     "name": "stdout",
     "output_type": "stream",
     "text": [
      " 9/63 [===>..........................] - ETA: 17s - loss: 0.8455 - accuracy: 0.6632"
     ]
    },
    {
     "ename": "InvalidArgumentError",
     "evalue": "Graph execution error:\n\nInput size should match (header_size + row_size * abs_height) but they differ by 2\n\t [[{{node decode_image/DecodeImage}}]]\n\t [[IteratorGetNext]] [Op:__inference_test_function_3471]",
     "output_type": "error",
     "traceback": [
      "\u001b[1;31m---------------------------------------------------------------------------\u001b[0m",
      "\u001b[1;31mInvalidArgumentError\u001b[0m                      Traceback (most recent call last)",
      "Cell \u001b[1;32mIn[41], line 1\u001b[0m\n\u001b[1;32m----> 1\u001b[0m loss, label_loss, bbox_loss, label_acc \u001b[38;5;241m=\u001b[39m \u001b[43mmodel\u001b[49m\u001b[38;5;241;43m.\u001b[39;49m\u001b[43mevaluate\u001b[49m\u001b[43m(\u001b[49m\u001b[43mtest_dataset\u001b[49m\u001b[43m)\u001b[49m\n",
      "File \u001b[1;32mC:\\devel\\miniconda3\\envs\\deeplearning\\Lib\\site-packages\\keras\\utils\\traceback_utils.py:70\u001b[0m, in \u001b[0;36mfilter_traceback.<locals>.error_handler\u001b[1;34m(*args, **kwargs)\u001b[0m\n\u001b[0;32m     67\u001b[0m     filtered_tb \u001b[38;5;241m=\u001b[39m _process_traceback_frames(e\u001b[38;5;241m.\u001b[39m__traceback__)\n\u001b[0;32m     68\u001b[0m     \u001b[38;5;66;03m# To get the full stack trace, call:\u001b[39;00m\n\u001b[0;32m     69\u001b[0m     \u001b[38;5;66;03m# `tf.debugging.disable_traceback_filtering()`\u001b[39;00m\n\u001b[1;32m---> 70\u001b[0m     \u001b[38;5;28;01mraise\u001b[39;00m e\u001b[38;5;241m.\u001b[39mwith_traceback(filtered_tb) \u001b[38;5;28;01mfrom\u001b[39;00m \u001b[38;5;28;01mNone\u001b[39;00m\n\u001b[0;32m     71\u001b[0m \u001b[38;5;28;01mfinally\u001b[39;00m:\n\u001b[0;32m     72\u001b[0m     \u001b[38;5;28;01mdel\u001b[39;00m filtered_tb\n",
      "File \u001b[1;32mC:\\devel\\miniconda3\\envs\\deeplearning\\Lib\\site-packages\\tensorflow\\python\\eager\\execute.py:52\u001b[0m, in \u001b[0;36mquick_execute\u001b[1;34m(op_name, num_outputs, inputs, attrs, ctx, name)\u001b[0m\n\u001b[0;32m     50\u001b[0m \u001b[38;5;28;01mtry\u001b[39;00m:\n\u001b[0;32m     51\u001b[0m   ctx\u001b[38;5;241m.\u001b[39mensure_initialized()\n\u001b[1;32m---> 52\u001b[0m   tensors \u001b[38;5;241m=\u001b[39m pywrap_tfe\u001b[38;5;241m.\u001b[39mTFE_Py_Execute(ctx\u001b[38;5;241m.\u001b[39m_handle, device_name, op_name,\n\u001b[0;32m     53\u001b[0m                                       inputs, attrs, num_outputs)\n\u001b[0;32m     54\u001b[0m \u001b[38;5;28;01mexcept\u001b[39;00m core\u001b[38;5;241m.\u001b[39m_NotOkStatusException \u001b[38;5;28;01mas\u001b[39;00m e:\n\u001b[0;32m     55\u001b[0m   \u001b[38;5;28;01mif\u001b[39;00m name \u001b[38;5;129;01mis\u001b[39;00m \u001b[38;5;129;01mnot\u001b[39;00m \u001b[38;5;28;01mNone\u001b[39;00m:\n",
      "\u001b[1;31mInvalidArgumentError\u001b[0m: Graph execution error:\n\nInput size should match (header_size + row_size * abs_height) but they differ by 2\n\t [[{{node decode_image/DecodeImage}}]]\n\t [[IteratorGetNext]] [Op:__inference_test_function_3471]"
     ]
    }
   ],
   "source": [
    "loss, label_loss, bbox_loss, label_acc = model.evaluate(test_dataset)\n"
   ]
  },
  {
   "cell_type": "code",
   "execution_count": null,
   "id": "3d68e6aa-030e-4499-8c0a-f237eec0b51f",
   "metadata": {},
   "outputs": [],
   "source": [
    "print(f\"Test accuracy: {label_acc:.3f}\")"
   ]
  }
 ],
 "metadata": {
  "kernelspec": {
   "display_name": "Python 3 (ipykernel)",
   "language": "python",
   "name": "python3"
  },
  "language_info": {
   "codemirror_mode": {
    "name": "ipython",
    "version": 3
   },
   "file_extension": ".py",
   "mimetype": "text/x-python",
   "name": "python",
   "nbconvert_exporter": "python",
   "pygments_lexer": "ipython3",
   "version": "3.11.4"
  }
 },
 "nbformat": 4,
 "nbformat_minor": 5
}
